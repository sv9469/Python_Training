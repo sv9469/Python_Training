{
 "cells": [
  {
   "cell_type": "markdown",
   "metadata": {
    "slideshow": {
     "slide_type": "slide"
    }
   },
   "source": [
    "# What is machine learning, and how does it work?\n",
    "\n",
    "![Machine learning](images/01_robot.png)"
   ]
  },
  {
   "cell_type": "markdown",
   "metadata": {
    "slideshow": {
     "slide_type": "slide"
    }
   },
   "source": [
    "## Agenda\n",
    "\n",
    "- What is machine learning?\n",
    "- What are the two main categories of machine learning?\n",
    "- What are some examples of machine learning?\n",
    "- How does machine learning \"work\"?"
   ]
  },
  {
   "cell_type": "markdown",
   "metadata": {
    "slideshow": {
     "slide_type": "slide"
    }
   },
   "source": [
    "## What is machine learning?\n",
    "\n",
    "Traditionally, software engineering combined human created rules with data to create answers to a problem. Instead, machine learning uses data and answers to discover the rules behind a problem.\n",
    "\n",
    "![TP_VS_ML](images/01_TP_vs_ML.png)"
   ]
  },
  {
   "cell_type": "markdown",
   "metadata": {
    "slideshow": {
     "slide_type": "subslide"
    }
   },
   "source": [
    "In the **traditional software development** approach, input and the algorithm is known, and you write a function to produce an output.\n",
    "* Input data\n",
    "* Design an algorithm by applying logic to it\n",
    "* Output is produced\n",
    "\n",
    "However, in the **Machine Learning approach**, you know the input and desired output, but you don’t know the algorithm that gives the output.\n",
    "* Give a set of input data\n",
    "* Give a set of desired output data\n",
    "* Train a machine learning algorithm and use it to predict future data.\n",
    "\n",
    "To learn the rules governing a phenomenon, machines have to go through a learning process, trying different rules and learning from how well they perform. Hence, why it’s known as Machine Learning."
   ]
  },
  {
   "cell_type": "markdown",
   "metadata": {
    "slideshow": {
     "slide_type": "slide"
    }
   },
   "source": [
    "## What are the two main categories of machine learning?\n",
    "\n",
    "![ML_types](images/01_ML_types.png)"
   ]
  },
  {
   "cell_type": "markdown",
   "metadata": {
    "slideshow": {
     "slide_type": "slide"
    }
   },
   "source": [
    "## Supervised Learning\n",
    "\n",
    "In Supervised Learning, we are given a labeled data set and already know what our correct output should look like, taking into consideration that there is some relationship between the input and output. Here the goal is to learn the mapping (the rules) or relationship between a set of inputs and outputs. Supervised problems are categorized into “Regression” and “Classification” problems."
   ]
  },
  {
   "cell_type": "markdown",
   "metadata": {
    "slideshow": {
     "slide_type": "slide"
    }
   },
   "source": [
    "### Regression\n",
    "\n",
    "In a “Regression” problem we are trying to predict something that has a continuous result. Therefore, regression is useful when predicting number based problems like stock market prices, the temperature for a given day, or price of house.\n",
    "\n",
    "#### Example\n",
    "Let's take an example of House Price Prediction. Your friend owns a house and says it is 750 sq/feet and he is hoping to sell his house and want to know for how much he can sell it. You know Machine Learning, and hence you can help him to predict the price using your Machine Learning knowledge and skills. Let’s see how to do it.\n",
    "![HPP](images/01_house_price_prediction.png)\n",
    "#### Algorithms\n",
    "* Linear Regression<br>\n",
    "* Ridge Regression<br>\n",
    "* Stepwise Regression<br>\n",
    "* K-nearest neighbours<br>\n",
    "* Decision Trees<br>\n",
    "* Random Forest<br>"
   ]
  },
  {
   "cell_type": "markdown",
   "metadata": {
    "slideshow": {
     "slide_type": "slide"
    }
   },
   "source": [
    "### Classification\n",
    "\n",
    "In the “Classification” problem we are trying to predict results which have a discrete output. Here, we seek a yes-or-no prediction, such as “Is this tumor cancerous?”, “Does this cookie meet our quality standards?”, and so on.\n",
    "\n",
    "#### Example\n",
    "\n",
    "Let’s say we work at the admission office at the university and our job is to accept or reject a student. In order to make a decision, we need some inputs from the students, right? Let’s take: their grades and final year exam mark.\n",
    "\n",
    "![Classification](images/01_Classification1.png)\n",
    "\n",
    "We are trying to predict based on the past data collected, whether Student C will be admitted or not? In order to visualize we can plot it on the graph. In the image below we have first separated with a line the data from good and bad. This line is going to be our model. The blue dots represent the data points students who got accepted and red dots students who got rejected based on their test mark and grades.\n",
    "\n",
    "![Classification](images/01_Classification2.png)\n",
    "#### Algorithms\n",
    "* Logistic Regression<br>\n",
    "* K-nearest neighbours<br>\n",
    "* Decision Trees<br>\n",
    "* Random Forest<br>\n",
    "* Support Vector Machine<br>\n",
    "* Naive Bayes"
   ]
  },
  {
   "cell_type": "markdown",
   "metadata": {
    "slideshow": {
     "slide_type": "slide"
    }
   },
   "source": [
    "## Unsupervised Learning\n",
    "\n",
    "In unsupervised learning, only input data is provided in the examples. There are no labelled example outputs to aim for. But it may be surprising to know that it is still possible to find many interesting and complex patterns hidden within data without any labels.\n"
   ]
  },
  {
   "cell_type": "markdown",
   "metadata": {
    "slideshow": {
     "slide_type": "slide"
    }
   },
   "source": [
    "### Clustering\n",
    "\n",
    "Unsupervised learning is mostly used for clustering. Clustering is the act of creating groups with differing characteristics. Clustering attempts to find various subgroups within a dataset. As this is unsupervised learning, we are not restricted to any set of labels and are free to choose how many clusters to create. This is both a blessing and a curse. Picking a model that has the correct number of clusters (complexity) has to be conducted via an empirical model selection process.\n",
    "\n",
    "![Clustering](images/01_segmentation.jpg)\n",
    "\n",
    "#### Algorithms\n",
    "* K-Means<br>\n",
    "* K-Median<br>\n",
    "* Hierarchical Clustering"
   ]
  },
  {
   "cell_type": "markdown",
   "metadata": {
    "slideshow": {
     "slide_type": "slide"
    }
   },
   "source": [
    "### Dimensionality Reduction\n",
    "\n",
    "Dimensionality reduction aims to find the most important features to reduce the original feature set down into a smaller more efficient set that still encodes the important data.\n",
    "\n",
    "#### Algorithms\n",
    "* PCA (Principal Component Analysis)<br>\n",
    "* T-SNE (T-distributed Stochastic Neighbor Embedding)<br>"
   ]
  },
  {
   "cell_type": "markdown",
   "metadata": {
    "slideshow": {
     "slide_type": "slide"
    }
   },
   "source": [
    "### Association\n",
    "\n",
    "In Association Learning you want to uncover the rules that describe your data. For example, if a person watches video A they will likely watch video B. Association rules are perfect for examples such as this where you want to find related items.\n",
    "\n",
    "![association](images/01_association.jpg)\n",
    "\n",
    "#### Algorithms\n",
    "* Apriori (Market Basket Analysis)<br>\n",
    "* Collaborative filtering<br>"
   ]
  },
  {
   "cell_type": "markdown",
   "metadata": {
    "slideshow": {
     "slide_type": "slide"
    }
   },
   "source": [
    "## How does machine learning \"work\"?\n",
    "\n",
    "High-level steps of supervised learning:\n",
    "\n",
    "1. First, train a **machine learning model** using **labeled data**\n",
    "\n",
    "    - \"Labeled data\" has been labeled with the outcome\n",
    "    - \"Machine learning model\" learns the relationship between the attributes of the data and its outcome\n",
    "\n",
    "2. Then, make **predictions** on **new data** for which the label is unknown\n",
    "\n",
    "![Supervised learning](images/01_supervised_learning.png)\n",
    "\n",
    "The primary goal of supervised learning is to build a model that \"generalizes\": It accurately predicts the **future** rather than the **past**!"
   ]
  },
  {
   "cell_type": "markdown",
   "metadata": {
    "slideshow": {
     "slide_type": "slide"
    }
   },
   "source": [
    "## Machine Learning Flow\n",
    "\n",
    "![process](images/01_process.png)\n",
    "\n",
    "1. **Data Collection:** Collect the data that the algorithm will learn from.\n",
    "2. **Data Preparation:** Format and engineer the data into the optimal format, extracting important features and performing dimensionality reduction.\n",
    "3. **Training:** Also known as the fitting stage, this is where the Machine Learning algorithm actually learns by showing it the data that has been collected and prepared.\n",
    "4. **Evaluation:** Test the model to see how well it performs.\n",
    "5. **Tuning:** Fine tune the model to maximise it’s performance."
   ]
  },
  {
   "cell_type": "markdown",
   "metadata": {
    "slideshow": {
     "slide_type": "slide"
    }
   },
   "source": [
    "**\"The goal of ML is never to make “perfect” guesses, because ML deals in domains where there is no such thing. The goal is to make guesses that are good enough to be useful\"**"
   ]
  },
  {
   "cell_type": "markdown",
   "metadata": {
    "slideshow": {
     "slide_type": "slide"
    }
   },
   "source": [
    "## Questions about machine learning\n",
    "\n",
    "- How do I choose **which attributes** of my data to include in the model?\n",
    "- How do I choose **which model** to use?\n",
    "- How do I **optimize** this model for best performance?\n",
    "- How do I ensure that I'm building a model that will **generalize** to unseen data?\n",
    "- Can I **estimate** how well my model is likely to perform on unseen data?"
   ]
  }
 ],
 "metadata": {
  "kernelspec": {
   "display_name": "Python 3",
   "language": "python",
   "name": "python3"
  },
  "language_info": {
   "codemirror_mode": {
    "name": "ipython",
    "version": 3
   },
   "file_extension": ".py",
   "mimetype": "text/x-python",
   "name": "python",
   "nbconvert_exporter": "python",
   "pygments_lexer": "ipython3",
   "version": "3.6.5"
  }
 },
 "nbformat": 4,
 "nbformat_minor": 2
}
