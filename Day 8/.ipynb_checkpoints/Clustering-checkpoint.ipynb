{
 "cells": [
  {
   "cell_type": "markdown",
   "metadata": {},
   "source": [
    "### Overview\n",
    "\n",
    "Clustering is the task of dividing the population or data points into a number of groups such that data points in the same groups are more similar to other data points in the same group than those in other groups. In simple words, the aim is to segregate groups with similar traits and assign them into clusters.\n",
    "\n",
    "Let’s understand this with an example. Suppose, you are the head of a rental store and wish to understand preferences of your costumers to scale up your business. Is it possible for you to look at details of each costumer and devise a unique business strategy for each one of them? Definitely not. But, what you can do is to cluster all of your costumers into say 10 groups based on their purchasing habits and use a separate strategy for costumers in each of these 10 groups. And this is what we call clustering."
   ]
  },
  {
   "cell_type": "markdown",
   "metadata": {},
   "source": [
    "### K Means Clustering\n",
    "\n",
    "K-means clustering is one of the simplest and popular unsupervised machine learning algorithms. K-means is a centroid-based algorithm, or a distance-based algorithm, where we calculate the distances to assign a point to a cluster. In K-Means, each cluster is associated with a centroid.\n",
    "\n",
    "***The main objective of the K-Means algorithm is to minimize the sum of distances between the points and their respective cluster centroid.***\n",
    "\n",
    "Let’s now take an example to understand how K-Means actually works:"
   ]
  },
  {
   "cell_type": "markdown",
   "metadata": {},
   "source": [
    "![kmeans1](images/kmeans1.webp)\n",
    "\n",
    "We have these 8 points and we want to apply k-means to create clusters for these points. Here’s how we can do it.\n",
    "\n",
    " \n",
    "\n",
    "#### Step 1: Choose the number of clusters k\n",
    "The first step in k-means is to pick the number of clusters, k.\n",
    "\n",
    "#### Step 2: Select k random points from the data as centroids\n",
    "Next, we randomly select the centroid for each cluster. Let’s say we want to have 2 clusters, so k is equal to 2 here. We then randomly select the centroid:\n",
    "\n",
    "![kmeans2](images/kmeans2.webp)\n",
    "\n",
    "Here, the red and green circles represent the centroid for these clusters."
   ]
  },
  {
   "cell_type": "markdown",
   "metadata": {},
   "source": [
    "#### Step 3: Assign objects to their closest cluster center according to the Euclidean distance function.\n",
    "\n",
    "## Need to add Euclidean distance formula here\n",
    "\n",
    "Once we have initialized the centroids, we assign each point to the closest cluster centroid:\n",
    "\n",
    "![kmeans3](images/kmeans3.webp)\n",
    "\n",
    "Here you can see that the points which are closer to the red point are assigned to the red cluster whereas the points which are closer to the green point are assigned to the green cluster.\n",
    "\n",
    "#### Step 4: Recompute the centroids of newly formed clusters\n",
    "## Need to add centroid formula here\n",
    "Now, once we have assigned all of the points to either cluster, the next step is to compute the centroids of newly formed clusters:\n",
    "\n",
    "![kmeans4](images/kmeans4.webp)\n",
    "Here, the red and green crosses are the new centroids."
   ]
  },
  {
   "cell_type": "markdown",
   "metadata": {},
   "source": [
    "### Step 5: Repeat steps 3 and 4\n",
    "We then repeat steps 3 and 4:\n",
    "\n",
    "![kmeans5](images/kmeans5.webp)\n",
    "\n",
    "The step of computing the centroid and assigning all the points to the cluster based on their distance from the centroid is a single iteration. But wait – when should we stop this process? It can’t run till eternity, right?"
   ]
  },
  {
   "cell_type": "markdown",
   "metadata": {},
   "source": [
    "### Stopping Criteria for K-Means Clustering\n",
    "There are essentially three stopping criteria that can be adopted to stop the K-means algorithm:\n",
    "\n",
    "1. Centroids of newly formed clusters do not change\n",
    "2. Points remain in the same cluster\n",
    "3. Maximum number of iterations are reached"
   ]
  },
  {
   "cell_type": "markdown",
   "metadata": {},
   "source": [
    "### Implementation in sklearn"
   ]
  },
  {
   "cell_type": "code",
   "execution_count": null,
   "metadata": {},
   "outputs": [],
   "source": []
  }
 ],
 "metadata": {
  "kernelspec": {
   "display_name": "Python 3",
   "language": "python",
   "name": "python3"
  },
  "language_info": {
   "codemirror_mode": {
    "name": "ipython",
    "version": 3
   },
   "file_extension": ".py",
   "mimetype": "text/x-python",
   "name": "python",
   "nbconvert_exporter": "python",
   "pygments_lexer": "ipython3",
   "version": "3.6.5"
  }
 },
 "nbformat": 4,
 "nbformat_minor": 2
}
