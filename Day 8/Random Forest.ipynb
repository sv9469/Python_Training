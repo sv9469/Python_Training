{
 "cells": [
  {
   "cell_type": "markdown",
   "metadata": {},
   "source": [
    "### Random Forest"
   ]
  },
  {
   "cell_type": "markdown",
   "metadata": {},
   "source": [
    "A Random Forest is an example of ensemble learning which uses bagging approach. Bagging is used to create an ensemble of trees where multiple training sets are generated with replacement. In the bagging technique, a data set is divided into N samples using randomized sampling. Then, using a single learning algorithm a model is built on all samples. Later, the resultant predictions are combined using voting or averaging in parallel.\n",
    "\n",
    "![random_forest](images/random_forest.png)"
   ]
  },
  {
   "cell_type": "markdown",
   "metadata": {},
   "source": [
    "### How does it work?\n",
    "Let’s consider that we have a total of m features.\n",
    "\n",
    "1. Randomly select “K” features from total “m” features where k << m\n",
    "2. Among the “K” features, calculate the node “d” using the best split point\n",
    "3. Split the node into child nodes using the best split methods\n",
    "4. Repeat the steps from 1 to 3 until “l” number of nodes has been reached (Stopping criteria has been reached)\n",
    "5. Build forest by repeating steps 1 to 4 for “n” number times to create “n” number of trees\n",
    "\n",
    "In the next stage, with the random forest classifier created, we will make the prediction. The random forest prediction pseudocode is shown below:\n",
    "1. Takes the test features and use the rules of each randomly created decision tree to predict the outcome and stores the predicted outcome (target)\n",
    "2. Calculate the votes for each predicted target\n",
    "3. Consider the high voted predicted target as the final prediction from the random forest algorithm"
   ]
  },
  {
   "cell_type": "markdown",
   "metadata": {},
   "source": [
    "### Hyperparameters"
   ]
  },
  {
   "cell_type": "markdown",
   "metadata": {},
   "source": [
    "* **n_estimators**: Number of trees in the forest \n",
    "* **max_features**: Max number of features considered for splitting a node<br>\n",
    "\n",
    "and all the decision tree hyper parameters are applicable here."
   ]
  },
  {
   "cell_type": "markdown",
   "metadata": {},
   "source": [
    "### Implementation in sklearn"
   ]
  },
  {
   "cell_type": "code",
   "execution_count": 1,
   "metadata": {},
   "outputs": [],
   "source": [
    "import pandas as pd\n",
    "import numpy as np"
   ]
  },
  {
   "cell_type": "code",
   "execution_count": 2,
   "metadata": {},
   "outputs": [],
   "source": [
    "df = pd.read_csv(\"titanic_processed.csv\")"
   ]
  },
  {
   "cell_type": "markdown",
   "metadata": {},
   "source": [
    "### Preparing data for sklearn"
   ]
  },
  {
   "cell_type": "code",
   "execution_count": 3,
   "metadata": {},
   "outputs": [],
   "source": [
    "train_col = ['Age', 'Fare', 'Pclass_2', 'Pclass_3', 'Sex_male','Embarked_Q', 'Embarked_S', 'family_members_1', \n",
    "             'family_members_2','family_members_>=3']\n",
    "target_col = 'Survived'"
   ]
  },
  {
   "cell_type": "code",
   "execution_count": 4,
   "metadata": {},
   "outputs": [],
   "source": [
    "X = df[train_col]\n",
    "y = df[target_col]"
   ]
  },
  {
   "cell_type": "code",
   "execution_count": 5,
   "metadata": {},
   "outputs": [
    {
     "data": {
      "text/plain": [
       "((891, 10), (891,))"
      ]
     },
     "execution_count": 5,
     "metadata": {},
     "output_type": "execute_result"
    }
   ],
   "source": [
    "X.shape, y.shape"
   ]
  },
  {
   "cell_type": "code",
   "execution_count": 6,
   "metadata": {},
   "outputs": [],
   "source": [
    "from sklearn.model_selection import train_test_split"
   ]
  },
  {
   "cell_type": "code",
   "execution_count": 7,
   "metadata": {},
   "outputs": [],
   "source": [
    "X_train, X_test, y_train, y_test = train_test_split(X, y, test_size=0.3, random_state=42)"
   ]
  },
  {
   "cell_type": "code",
   "execution_count": 8,
   "metadata": {},
   "outputs": [
    {
     "data": {
      "text/plain": [
       "((623, 10), (268, 10), (623,), (268,))"
      ]
     },
     "execution_count": 8,
     "metadata": {},
     "output_type": "execute_result"
    }
   ],
   "source": [
    "X_train.shape,X_test.shape,y_train.shape,y_test.shape"
   ]
  },
  {
   "cell_type": "markdown",
   "metadata": {},
   "source": [
    "### Creating Random Forest classifier "
   ]
  },
  {
   "cell_type": "code",
   "execution_count": 10,
   "metadata": {},
   "outputs": [],
   "source": [
    "#Import Random Forest Model\n",
    "\n",
    "from sklearn.ensemble import RandomForestClassifier"
   ]
  },
  {
   "cell_type": "code",
   "execution_count": 11,
   "metadata": {},
   "outputs": [
    {
     "data": {
      "text/plain": [
       "RandomForestClassifier(max_depth=3, max_features=3, n_estimators=21,\n",
       "                       random_state=1)"
      ]
     },
     "execution_count": 11,
     "metadata": {},
     "output_type": "execute_result"
    }
   ],
   "source": [
    "#Create a RandomForest Classifier\n",
    "clf_rf = RandomForestClassifier(n_estimators=21, max_features = 3, max_depth = 3, random_state = 1)\n",
    "\n",
    "# Fitting the classifier over training data\n",
    "clf_rf.fit(X_train, y_train)"
   ]
  },
  {
   "cell_type": "code",
   "execution_count": 12,
   "metadata": {},
   "outputs": [],
   "source": [
    "# Predicting on the train dataset\n",
    "y_pred_train = clf_rf.predict(X_train)\n",
    "y_pred_train_prob = clf_rf.predict_proba(X_train)[:, 1]"
   ]
  },
  {
   "cell_type": "code",
   "execution_count": 13,
   "metadata": {},
   "outputs": [],
   "source": [
    "# Predicting on the test dataset\n",
    "y_pred = clf_rf.predict(X_test)\n",
    "y_pred_prob = clf_rf.predict_proba(X_test)[:, 1]"
   ]
  },
  {
   "cell_type": "code",
   "execution_count": 14,
   "metadata": {},
   "outputs": [],
   "source": [
    "from sklearn import metrics"
   ]
  },
  {
   "cell_type": "code",
   "execution_count": 15,
   "metadata": {},
   "outputs": [],
   "source": [
    "# Custom function to Evaluate Model performance\n",
    "def model_evaluation(y_true, y_prob, threshold = 0.5):\n",
    "    y_pred = (y_prob>=threshold).astype(int)\n",
    "    print(\"Accuracy: \", round(metrics.accuracy_score(y_true, y_pred)*100,2), \"%\")\n",
    "    print(\"Recall: \", round(metrics.recall_score(y_true, y_pred)*100,2), \"%\")\n",
    "    print(\"Precision: \", round(metrics.precision_score(y_true, y_pred)*100,2), \"%\")\n",
    "    print(\"F1-score: \", round(metrics.f1_score(y_true, y_pred)*100,2), \"%\")"
   ]
  },
  {
   "cell_type": "code",
   "execution_count": 16,
   "metadata": {},
   "outputs": [
    {
     "name": "stdout",
     "output_type": "stream",
     "text": [
      "Accuracy:  82.99 %\n",
      "Recall:  60.17 %\n",
      "Precision:  90.85 %\n",
      "F1-score:  72.4 %\n"
     ]
    }
   ],
   "source": [
    "# Model evaluation on training dataset\n",
    "\n",
    "model_evaluation(y_train, y_pred_train_prob)"
   ]
  },
  {
   "cell_type": "code",
   "execution_count": 17,
   "metadata": {},
   "outputs": [
    {
     "name": "stdout",
     "output_type": "stream",
     "text": [
      "Accuracy:  80.6 %\n",
      "Recall:  62.16 %\n",
      "Precision:  87.34 %\n",
      "F1-score:  72.63 %\n"
     ]
    }
   ],
   "source": [
    "# Model evaluation on testing dataset\n",
    "\n",
    "model_evaluation(y_test, y_pred_prob)"
   ]
  },
  {
   "cell_type": "markdown",
   "metadata": {},
   "source": [
    "### Variable/feature Importance"
   ]
  },
  {
   "cell_type": "code",
   "execution_count": 18,
   "metadata": {},
   "outputs": [
    {
     "data": {
      "text/plain": [
       "array([0.11719474, 0.11820712, 0.02663979, 0.17676   , 0.44229531,\n",
       "       0.00423989, 0.0380965 , 0.01957614, 0.02497524, 0.03201529])"
      ]
     },
     "execution_count": 18,
     "metadata": {},
     "output_type": "execute_result"
    }
   ],
   "source": [
    "# Calculate feature importances\n",
    "\n",
    "clf_rf.feature_importances_"
   ]
  },
  {
   "cell_type": "code",
   "execution_count": 19,
   "metadata": {},
   "outputs": [],
   "source": [
    "# Calculate feature importances\n",
    "importances = clf_rf.feature_importances_\n",
    "# Sort feature importances in descending order\n",
    "indices = np.argsort(importances)[::-1]\n",
    "\n",
    "# Rearrange feature names so they match the sorted feature importances\n",
    "names = [X_train.columns[i] for i in indices]"
   ]
  },
  {
   "cell_type": "code",
   "execution_count": 21,
   "metadata": {},
   "outputs": [],
   "source": [
    "%matplotlib inline"
   ]
  },
  {
   "cell_type": "code",
   "execution_count": 22,
   "metadata": {},
   "outputs": [
    {
     "data": {
      "image/png": "[encoded data removed]",
      "text/plain": [
       "<Figure size 720x360 with 1 Axes>"
      ]
     },
     "metadata": {
      "needs_background": "light"
     },
     "output_type": "display_data"
    }
   ],
   "source": [
    "import matplotlib.pyplot as plt\n",
    "\n",
    "# Barplot: Add bars\n",
    "plt.figure(figsize = (10,5))\n",
    "plt.bar(range(X_train.shape[1]), importances[indices])\n",
    "# Add feature names as x-axis labels\n",
    "plt.xticks(range(X_train.shape[1]), names, rotation=20, fontsize = 8)\n",
    "# Create plot title\n",
    "plt.title(\"Feature Importance\")\n",
    "# Show plot\n",
    "plt.show()"
   ]
  },
  {
   "cell_type": "code",
   "execution_count": null,
   "metadata": {},
   "outputs": [],
   "source": []
  },
  {
   "cell_type": "markdown",
   "metadata": {},
   "source": [
    "### Advantages\n",
    "\n",
    "1. Improving the accuracy of the model and works in most of the cases. \n",
    "2. Quite robust to outliers and indifferent to non-linear features\n",
    "3. Lower risk of overfitting\n",
    "4. Random forest models are more robust and stable thus ensuring good performance on the test cases in most scenarios. \n",
    "\n",
    "\n",
    "### Disadvantages\n",
    "1. Model interpretability: Random forest models are not all that interpretable; they are like black boxes.\n",
    "2. For very large data sets, the size of the trees can take up a lot of memory \n"
   ]
  }
 ],
 "metadata": {
  "kernelspec": {
   "display_name": "Python 3",
   "language": "python",
   "name": "python3"
  },
  "language_info": {
   "codemirror_mode": {
    "name": "ipython",
    "version": 3
   },
   "file_extension": ".py",
   "mimetype": "text/x-python",
   "name": "python",
   "nbconvert_exporter": "python",
   "pygments_lexer": "ipython3",
   "version": "3.6.5"
  }
 },
 "nbformat": 4,
 "nbformat_minor": 2
}
